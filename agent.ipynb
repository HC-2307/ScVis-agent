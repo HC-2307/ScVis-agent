{
 "cells": [
  {
   "cell_type": "code",
   "execution_count": 1,
   "id": "f9293c50",
   "metadata": {},
   "outputs": [],
   "source": [
    "import os\n",
    "import asyncio\n",
    "from dotenv import load_dotenv\n",
    "from openai import AsyncOpenAI\n",
    "import aiohttp\n",
    "from bs4 import BeautifulSoup\n",
    "import matplotlib.pyplot as plt\n",
    "from IPython.display import display\n",
    "from PIL import Image\n",
    "from typing import List, Dict\n"
   ]
  },
  {
   "cell_type": "code",
   "execution_count": 2,
   "id": "c3d3ea43",
   "metadata": {},
   "outputs": [],
   "source": [
    "load_dotenv(override=True)\n",
    "client = AsyncOpenAI(api_key=os.getenv(\"OPENAI_API_KEY\"))\n",
    "\n",
    "HEADERS = {\"User-Agent\": \"Mozilla/5.0\"}\n",
    "BING_NEWS_URL = \"https://www.bing.com/news/search?q={query}\"\n"
   ]
  },
  {
   "cell_type": "code",
   "execution_count": null,
   "id": "2afb6717",
   "metadata": {},
   "outputs": [],
   "source": [
    "import openai\n",
    "\n",
    "def check_api_key(api_key):\n",
    "    try:\n",
    "        openai.api_key = api_key\n",
    "        openai.models.list()\n",
    "        print(\"✅ API key is valid!\")\n",
    "        return True\n",
    "    except Exception as e:\n",
    "        print(\"❌ Invalid API Key:\", e)\n",
    "        return False\n",
    "\n",
    "# Usage\n",
    "api_key = \"sk-...\"  # Replace with your actual key\n",
    "if not check_api_key(api_key):\n",
    "    raise ValueError(\"❌ Please check your OpenAI API key.\")\n"
   ]
  },
  {
   "cell_type": "code",
   "execution_count": 5,
   "id": "c613729d",
   "metadata": {},
   "outputs": [],
   "source": [
    "async def fetch_html(session, url):\n",
    "    async with session.get(url, headers=HEADERS) as response:\n",
    "        return await response.text()\n",
    "\n",
    "async def scrape_bing_news(session, keyword: str, max_results: int = 10):\n",
    "    query = keyword.replace(\" \", \"+\")\n",
    "    url = BING_NEWS_URL.format(query=query)\n",
    "    html = await fetch_html(session, url)\n",
    "    soup = BeautifulSoup(html, \"html.parser\")\n",
    "    articles = soup.select(\"div.news-card\")[:max_results]\n",
    "    results = []\n",
    "    for article in articles:\n",
    "        title_tag = article.find(\"a\")\n",
    "        snippet_tag = article.find(\"div\", class_=\"snippet\")\n",
    "        if title_tag:\n",
    "            results.append({\n",
    "                \"title\": title_tag.get_text(strip=True),\n",
    "                \"snippet\": snippet_tag.get_text(strip=True) if snippet_tag else \"No Snippet\",\n",
    "                \"link\": title_tag.get(\"href\")\n",
    "            })\n",
    "    return results\n",
    "\n",
    "async def summarize_with_openai(articles: List[Dict]) -> str:\n",
    "    text_block = \"\\n\\n\".join([f\"Title: {a['title']}\\nSnippet: {a['snippet']}\" for a in articles])\n",
    "    messages = [\n",
    "        {\"role\": \"system\", \"content\": \"Summarize the following news articles.\"},\n",
    "        {\"role\": \"user\", \"content\": text_block}\n",
    "    ]\n",
    "    response = await client.chat.completions.create(\n",
    "        model=\"gpt-4\",\n",
    "        messages=messages\n",
    "    )\n",
    "    return response.choices[0].message.content\n",
    "\n",
    "def visualize_articles(articles: List[Dict], keyword: str):\n",
    "    titles = [f\"{i+1}\" for i in range(len(articles))]\n",
    "    lengths = [len(article['title']) for article in articles]\n",
    "    \n",
    "    plt.figure(figsize=(10, 5))\n",
    "    plt.bar(titles, lengths, color='skyblue')\n",
    "    plt.xlabel('Articles')\n",
    "    plt.ylabel('Title Length')\n",
    "    plt.title(f'Article Title Lengths for \\\"{keyword}\\\"')\n",
    "    plt.xticks(rotation=45)\n",
    "    plt.tight_layout()\n",
    "    \n",
    "    image_path = f\"{keyword}_chart.png\"\n",
    "    plt.savefig(image_path)\n",
    "    img = Image.open(image_path)\n",
    "    display(img)\n",
    "    return image_path\n"
   ]
  },
  {
   "cell_type": "code",
   "execution_count": 6,
   "id": "8622eef9",
   "metadata": {},
   "outputs": [],
   "source": [
    "class DataScraperAgent:\n",
    "    async def scrape_and_visualize(self, keyword: str) -> str:\n",
    "        async with aiohttp.ClientSession() as session:\n",
    "            articles = await scrape_bing_news(session, keyword)\n",
    "            if not articles:\n",
    "                return \"No articles found.\"\n",
    "            summary = await summarize_with_openai(articles)\n",
    "            visualize_articles(articles, keyword)\n",
    "            return f\"### Summary of Articles for '{keyword}':\\n\\n{summary}\"\n"
   ]
  },
  {
   "cell_type": "code",
   "execution_count": null,
   "id": "8de2d9e6",
   "metadata": {},
   "outputs": [],
   "source": [
    "agent = DataScraperAgent()\n",
    "\n",
    "async def run_agent():\n",
    "    keyword = \"electric vehicles\"\n",
    "    result = await agent.scrape_and_visualize(keyword)\n",
    "    print(result)\n",
    "\n",
    "await run_agent()\n"
   ]
  },
  {
   "cell_type": "code",
   "execution_count": null,
   "id": "5d15b6b5",
   "metadata": {},
   "outputs": [],
   "source": []
  }
 ],
 "metadata": {
  "kernelspec": {
   "display_name": "ss25",
   "language": "python",
   "name": "python3"
  },
  "language_info": {
   "codemirror_mode": {
    "name": "ipython",
    "version": 3
   },
   "file_extension": ".py",
   "mimetype": "text/x-python",
   "name": "python",
   "nbconvert_exporter": "python",
   "pygments_lexer": "ipython3",
   "version": "3.13.5"
  }
 },
 "nbformat": 4,
 "nbformat_minor": 5
}
